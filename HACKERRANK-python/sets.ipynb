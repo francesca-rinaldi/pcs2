{
 "cells": [
  {
   "cell_type": "code",
   "execution_count": null,
   "metadata": {},
   "outputs": [],
   "source": [
    "#INTRODUCTION TO SETS\n",
    "def average(array):\n",
    "    c= sum(set(arr))\n",
    "    e= len(set(arr))\n",
    "    average= c/e\n",
    "    return average"
   ]
  },
  {
   "cell_type": "code",
   "execution_count": null,
   "metadata": {},
   "outputs": [],
   "source": [
    "#NO IDEA!\n",
    "num = set(input().split())\n",
    "arr = list(input().split())\n",
    "A = set(input().split())\n",
    "B = set(input().split())\n",
    "h = 0\n",
    "for z in arr:\n",
    "    if z in A:\n",
    "        h += 1\n",
    "    if z in B:\n",
    "        h -= 1\n",
    "    else: None\n",
    "print(h)"
   ]
  },
  {
   "cell_type": "code",
   "execution_count": null,
   "metadata": {},
   "outputs": [],
   "source": [
    "#SIMMETRIC DIFFERENCE\n",
    "M=int(input())\n",
    "m=input()\n",
    "N=int(input())\n",
    "n=input()\n",
    "x=list(map(int,m.split()))\n",
    "y=list(map(int,n.split()))\n",
    "a=set(x)\n",
    "b=set(y)\n",
    "c=a.difference(b)\n",
    "d=b.difference(a)\n",
    "e=c.union(d)\n",
    "result=list(e)\n",
    "result.sort()\n",
    "\n",
    "for i in range(len(result)):\n",
    "    print(result[i])\\"
   ]
  },
  {
   "cell_type": "code",
   "execution_count": null,
   "metadata": {},
   "outputs": [],
   "source": [
    "#SET.ADD()\n",
    "n=int(input())        \n",
    "s=set()\n",
    "\n",
    "\n",
    "for i in range(n):\n",
    "    s.add(input().strip())      \n",
    "print(len(s))"
   ]
  },
  {
   "cell_type": "code",
   "execution_count": null,
   "metadata": {},
   "outputs": [],
   "source": [
    "#SET .DISCARD() .MOVE() .POP()\n",
    "n = int(input())\n",
    "s = set(map(int, input().split()))\n",
    "num = int(input())\n",
    "for l in range(num):\n",
    "    line = input().split()\n",
    "    if 'pop' in line and len(s)>0:\n",
    "        s.pop()\n",
    "    if 'remove' in line:\n",
    "        s.remove(int(line[1]))\n",
    "    if 'discard' in line:\n",
    "        s.discard(int(line[1]))\n",
    "print(sum(s))"
   ]
  },
  {
   "cell_type": "code",
   "execution_count": null,
   "metadata": {},
   "outputs": [],
   "source": [
    "#SET .UNION() OPERATION\n",
    "n = int(input())\n",
    "nset = set(input().split())\n",
    "b = int(input())\n",
    "bset = set(input().split())\n",
    "print(len(nset.union(bset)))"
   ]
  },
  {
   "cell_type": "code",
   "execution_count": null,
   "metadata": {},
   "outputs": [],
   "source": [
    "#SET .INTERSECTION() OPERATION\n",
    "n = int(input())\n",
    "nset = set(input().split())\n",
    "b = int(input())\n",
    "bset = set(input().split())\n",
    "print(len(nset.intersection(bset)))"
   ]
  },
  {
   "cell_type": "code",
   "execution_count": null,
   "metadata": {},
   "outputs": [],
   "source": [
    "#SET DIFFERENCE() OPERATION\n",
    "n = int(input())\n",
    "nset = set(input().split())\n",
    "b = int(input())\n",
    "bset = set(input().split())\n",
    "print(len(nset.difference(bset)))"
   ]
  },
  {
   "cell_type": "code",
   "execution_count": null,
   "metadata": {},
   "outputs": [],
   "source": [
    "#SET .SYMMETRIC_DIFFERENCE() OPERATION\n",
    "n = int(input())\n",
    "nset = set(input().split())\n",
    "b = int(input())\n",
    "bset = set(input().split())\n",
    "print(len(nset.symmetric_difference(bset)))"
   ]
  },
  {
   "cell_type": "code",
   "execution_count": null,
   "metadata": {},
   "outputs": [],
   "source": [
    "#SET MUTATIONS\n",
    "num = int(input())\n",
    "A = set(input().split())\n",
    "N = int(input())\n",
    "lines = []\n",
    "for line in range(2*N):\n",
    "    line = set(input().split())\n",
    "    lines.append(line)\n",
    "for i in range(len(lines)):\n",
    "    if 'update' in lines[i]:\n",
    "        A.update(lines[i+1])\n",
    "    if 'intersection_update' in lines[i]:\n",
    "        A.intersection_update(lines[i+1])\n",
    "    if 'difference_update' in lines[i]:\n",
    "        A.difference_update(lines[i+1])\n",
    "    if 'symmetric_difference_update' in lines[i]:\n",
    "        A.symmetric_difference_update(lines[i+1])\n",
    "print(sum(map(int, A)))"
   ]
  },
  {
   "cell_type": "code",
   "execution_count": null,
   "metadata": {},
   "outputs": [],
   "source": [
    "#THE CAPTAIN'S ROOM\n",
    "K = int(input())\n",
    "room_lst = list(map(int, (input().split())))\n",
    "s1 = set()\n",
    "s2 = set()\n",
    "for e in room_lst:\n",
    "    if e not in s1:\n",
    "        s1.add(e)\n",
    "    else:\n",
    "        s2.add(e)\n",
    "print(*s1.difference(s2))"
   ]
  },
  {
   "cell_type": "code",
   "execution_count": null,
   "metadata": {},
   "outputs": [],
   "source": [
    "#CHECK SUBSET\n",
    "T = int(input())\n",
    "for i in range(T):\n",
    "    lines = []\n",
    "    for i in range(4):\n",
    "        lines.append(set(input().split()))\n",
    "    if len(lines[1].difference(lines[3])) == 0:\n",
    "        print(True)\n",
    "    else:\n",
    "        print(False)"
   ]
  },
  {
   "cell_type": "code",
   "execution_count": null,
   "metadata": {},
   "outputs": [],
   "source": [
    "#CHECK STRICT SUPERSET\n",
    "A = set(input().split())\n",
    "N = int(input())\n",
    "sets = []\n",
    "r = True\n",
    "for i in range(N):\n",
    "    sets.append(set(input().split()))\n",
    "for s in sets:\n",
    "    if not (len(s.difference(A)) == 0 and len(A.difference(s))) > 0:\n",
    "        r = False\n",
    "    else:\n",
    "        None\n",
    "print(r)"
   ]
  }
 ],
 "metadata": {
  "kernelspec": {
   "display_name": "Python 3",
   "language": "python",
   "name": "python3"
  },
  "language_info": {
   "codemirror_mode": {
    "name": "ipython",
    "version": 3
   },
   "file_extension": ".py",
   "mimetype": "text/x-python",
   "name": "python",
   "nbconvert_exporter": "python",
   "pygments_lexer": "ipython3",
   "version": "3.8.3"
  }
 },
 "nbformat": 4,
 "nbformat_minor": 4
}
