{
 "cells": [
  {
   "cell_type": "code",
   "execution_count": null,
   "metadata": {},
   "outputs": [],
   "source": [
    "#WHAT’S YOUR NAME\n",
    "def print_full_name(a, b):\n",
    "    print(\"\")\n",
    "if __name__ == '__main__':\n",
    "    first_name = input()\n",
    "    last_name = input()\n",
    "    print_full_name(first_name, last_name)"
   ]
  },
  {
   "cell_type": "code",
   "execution_count": null,
   "metadata": {},
   "outputs": [],
   "source": [
    "#MUTATIONS\n",
    "def mutate_string(string, position, character):\n",
    "    return\n",
    "if __name__ == '__main__':\n",
    "    s = input()\n",
    "    i, c = input().split()\n",
    "    s_new = mutate_string(s, int(i), c)\n",
    "    print(s_new)"
   ]
  },
  {
   "cell_type": "code",
   "execution_count": null,
   "metadata": {},
   "outputs": [],
   "source": [
    "#STRING SPLIT JOIN\n",
    "def split_and_join(line):\n",
    "    # write your code here\n",
    "if __name__ == '__main__':\n",
    "    line = input()\n",
    "    result = split_and_join(line)\n",
    "    print(result)"
   ]
  },
  {
   "cell_type": "code",
   "execution_count": null,
   "metadata": {},
   "outputs": [],
   "source": [
    "#SWAP CASE\n",
    "def swap_case(s):\n",
    "    a=''\n",
    "    for i in s:\n",
    "        if i.isupper():\n",
    "            a= a+i.lower()\n",
    "        else: \n",
    "            a= a+i.upper()\n",
    "    return a"
   ]
  },
  {
   "cell_type": "code",
   "execution_count": null,
   "metadata": {},
   "outputs": [],
   "source": [
    "#FIND A STRING\n",
    "def count_substring(string, sub_string):\n",
    "    c = 0\n",
    "    for i in range(len(string)):\n",
    "        if string.count(sub_string) >= 1:\n",
    "            index = string.index(sub_string)\n",
    "            string = string[index+1:]\n",
    "            c+=1\n",
    "    return c"
   ]
  },
  {
   "cell_type": "code",
   "execution_count": null,
   "metadata": {},
   "outputs": [],
   "source": [
    "#STRING VALIDATORS\n",
    "if __name__ == '__main__':\n",
    "    s = input()\n",
    "    k=0\n",
    "    for i in s:\n",
    "        if i.isalnum():\n",
    "            k=k+1\n",
    "    if k>0:\n",
    "        print(True)\n",
    "    else:\n",
    "        print(False)\n",
    "\n",
    "    k=0\n",
    "    for e in s:\n",
    "        if e.isalpha():\n",
    "            k=k+1\n",
    "    if k>0:\n",
    "        print(True)\n",
    "    else:\n",
    "        print(False)\n",
    "\n",
    "    k=0\n",
    "    for f in s:\n",
    "        if f.isdigit():\n",
    "            k=k+1\n",
    "    if k>0:\n",
    "        print(True)\n",
    "    else:\n",
    "        print(False)\n",
    "\n",
    "    k=0\n",
    "    for g in s:\n",
    "        if g.islower():\n",
    "            k=k+1\n",
    "    if k>0:\n",
    "        print(True)\n",
    "    else: \n",
    "        print(False)\n",
    "    \n",
    "    k=0\n",
    "    for h in s:\n",
    "        if h.isupper():\n",
    "            k=k+1\n",
    "    if k>0:\n",
    "        print(True)\n",
    "    else:\n",
    "        print(False)"
   ]
  },
  {
   "cell_type": "code",
   "execution_count": null,
   "metadata": {},
   "outputs": [],
   "source": [
    "#TEXT ALIGNMENT\n",
    "thickness = int(input()) #This must be an odd number\n",
    "c = 'H'\n",
    "\n",
    "#Top Cone\n",
    "for i in range(thickness):\n",
    "    print((c*i).rjust(thickness-1)+c+(c*i).ljust(thickness-1))\n",
    "\n",
    "#Top Pillars\n",
    "for i in range(thickness+1):\n",
    "    print((c*thickness).center(thickness*2)+(c*thickness).center(thickness*6))\n",
    "\n",
    "#Middle Belt\n",
    "for i in range((thickness+1)//2):\n",
    "    print((c*thickness*5).center(thickness*6))    \n",
    "\n",
    "#Bottom Pillars\n",
    "for i in range(thickness+1):\n",
    "    print((c*thickness).center(thickness*2)+(c*thickness).center(thickness*6))    \n",
    "\n",
    "#Bottom Cone\n",
    "for i in range(thickness):\n",
    "    print(((c*(thickness-i-1)).rjust(thickness)+c+(c*(thickness-i-1)).ljust(thickness)).rjust(thickness*6))\n",
    "\n"
   ]
  },
  {
   "cell_type": "code",
   "execution_count": null,
   "metadata": {},
   "outputs": [],
   "source": [
    "#TEXT WRAP\n",
    "def wrap(string, max_width):\n",
    "    s = \"\"\n",
    "    for i in range(0,len(string),max_width):\n",
    "        s += string[i:i+max_width] + \"\\n\"\n",
    "    return s"
   ]
  },
  {
   "cell_type": "code",
   "execution_count": null,
   "metadata": {},
   "outputs": [],
   "source": [
    "#DESIGNER DOOR MAT\n",
    "if __name__ == '__main__':\n",
    "        N, M = map(int, input().split(\" \"))\n",
    "\n",
    "        for i in range(N):\n",
    "                pattern = \".|.\"\n",
    "                if i < (N-1)/2:\n",
    "                        print((pattern * (2*i+1)).center(M, \"-\"))\n",
    "                elif i == (N-1)/2:\n",
    "                        print(\"WELCOME\".center(M, \"-\"))\n",
    "                else:\n",
    "                        print((pattern * (2*(N-1-i)+1)).center(M, \"-\"))"
   ]
  },
  {
   "cell_type": "code",
   "execution_count": null,
   "metadata": {},
   "outputs": [],
   "source": [
    "#STRING FORMATTING\n",
    "def print_formatted(number):\n",
    "    \n",
    "    results = []\n",
    "\n",
    "    for i in range(1, n+1):\n",
    "        decimal = str(i)\n",
    "        octal = str(oct(i)[2:])\n",
    "        hex_ = str(hex(i)[2:]).upper()\n",
    "        binary = str(bin(i)[2:])\n",
    "\n",
    "        results.append([decimal, octal, hex_, binary])\n",
    "\n",
    "    width = len(results[-1][3])  # largest binary number\n",
    "\n",
    "    for i in results:\n",
    "        print(*(rep.rjust(width) for rep in i))"
   ]
  },
  {
   "cell_type": "code",
   "execution_count": null,
   "metadata": {},
   "outputs": [],
   "source": [
    "#ALPHABET RANGOLI\n",
    "def print_rangoli(size):\n",
    "    myStr = 'abcdefghijklmnopqrstuvwxyz'[0:size]\n",
    "    \n",
    "    for i in range(size-1, -size, -1):\n",
    "        x = abs(i)\n",
    "        line = myStr[size:x:-1]+myStr[x:size]\n",
    "        print (\"--\"*x+ '-'.join(line)+\"--\"*x)"
   ]
  },
  {
   "cell_type": "code",
   "execution_count": null,
   "metadata": {},
   "outputs": [],
   "source": [
    "#CAPITALIZE\n",
    "def solve(s):\n",
    "    lst = list(s)\n",
    "    lst[0] = lst[0].upper()\n",
    "    for i in range(1,len(lst)):\n",
    "        if lst[i] == \" \" and i < len(lst)+1 and lst[i+1] != \" \":\n",
    "            lst[i+1] = lst[i+1].upper()\n",
    "    a = \"\".join(lst)\n",
    "\n",
    "\n",
    "    return a"
   ]
  },
  {
   "cell_type": "code",
   "execution_count": null,
   "metadata": {},
   "outputs": [],
   "source": [
    "#THE MINION GAME\n",
    "def minion_game(string):\n",
    "    vowel =['A','E','I','O','U']\n",
    "    S=0\n",
    "    K=0\n",
    "    for i in range(len(string)):\n",
    "        if string[i] in vowel:\n",
    "            K+= len(string)-i\n",
    "        else:\n",
    "            S+=len(string)-i\n",
    "    if S>K:\n",
    "        print(\"Stuart\"+\" \"+ \"%d\" % S)\n",
    "    elif K>S:\n",
    "        print(\"Kevin\"+\" \"+'%d' % K)\n",
    "    else:\n",
    "        print(\"Draw\")"
   ]
  },
  {
   "cell_type": "code",
   "execution_count": null,
   "metadata": {},
   "outputs": [],
   "source": [
    "#MERGE THE TOOLS\n",
    "def merge_the_tools(string, k):\n",
    "    data = []\n",
    "    ist = []\n",
    "    for i in range(len(string)):\n",
    "        data.append(string[i])\n",
    "        if (i+1)%k==0 and (i+1)>=k:\n",
    "            ist.append(data)\n",
    "            data = []\n",
    "        \n",
    "    \n",
    "    for i in range(len(ist)):\n",
    "        ist[i] = list(dict.fromkeys(ist[i]))\n",
    "        print(''.join(ist[i]))"
   ]
  }
 ],
 "metadata": {
  "kernelspec": {
   "display_name": "Python 3",
   "language": "python",
   "name": "python3"
  },
  "language_info": {
   "codemirror_mode": {
    "name": "ipython",
    "version": 3
   },
   "file_extension": ".py",
   "mimetype": "text/x-python",
   "name": "python",
   "nbconvert_exporter": "python",
   "pygments_lexer": "ipython3",
   "version": "3.8.3"
  }
 },
 "nbformat": 4,
 "nbformat_minor": 4
}
