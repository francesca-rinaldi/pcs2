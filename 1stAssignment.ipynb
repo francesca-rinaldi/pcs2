{
 "cells": [
  {
   "cell_type": "code",
   "execution_count": null,
   "metadata": {},
   "outputs": [],
   "source": [
    "#LIST COMPREHENSIONS\n",
    "x, y, z, n = [int(input()) for _ in range(4)]\n",
    "listOfAnswers = [[i, j, k] for i in range(x + 1) for j in range(y + 1) for k in range(z + 1) if i + j + k != n]\n",
    "print(listOfAnswers)\n",
    "\n",
    "def check(x,y,z,n):\n",
    "    cont_list = []\n",
    "    for x_i in range(x+1):\n",
    "        for y_i in range(y+1):\n",
    "            for z_i in range(z+1):\n",
    "                if x_i + y_i + z_i != n:\n",
    "                    heap = []\n",
    "                    heap.append(x_i)\n",
    "                    heap.append(y_i)\n",
    "                    heap.append(z_i)\n",
    "                    cont_list.append(heap)\n",
    "    print(cont_list)\n",
    "if __name__ == '__main__':\n",
    "    x = int(raw_input())\n",
    "    y = int(raw_input())\n",
    "    z = int(raw_input())\n",
    "    n = int(raw_input())\n",
    "    check(x,y,z,n)\n"
   ]
  },
  {
   "cell_type": "code",
   "execution_count": null,
   "metadata": {},
   "outputs": [],
   "source": [
    "#FIND THE RUNNER-UP SCORE\n",
    "if __name__ == '__main__':\n",
    "    n = int(input())\n",
    "    arr = map(int, input().split())\n",
    "    print (sorted(set(arr))[-2])\n"
   ]
  },
  {
   "cell_type": "code",
   "execution_count": null,
   "metadata": {},
   "outputs": [],
   "source": [
    "#NESTED LISTS\n",
    "def nest(ist):\n",
    "    ist_num = []\n",
    "    for i in range(len(ist)):\n",
    "        ist_num.append(ist[i][1])\n",
    "    ist_num_sorted = sorted(set(ist_num),key=float)\n",
    "    aka = ist_num_sorted[1]\n",
    "    nome = []\n",
    "    for i in range(len(ist)):\n",
    "        if ist[i][1] == aka:\n",
    "            nome.append(ist[i][0])\n",
    "    nome.sort()\n",
    "    for i in nome:\n",
    "        print(i)\n",
    "        print(i)\n",
    "if __name__ == \"__main__\":\n",
    "    number = int(input())\n",
    "    ist1 = []\n",
    "    ist_main = []\n",
    "    for i in range(number):\n",
    "        ist1 = []\n",
    "        n = input()\n",
    "        n2 = float(input())\n",
    "        ist1.append(n)\n",
    "        ist1.append(n2)\n",
    "        ist_main.append(ist1)\n",
    "    nest(ist_main)"
   ]
  },
  {
   "cell_type": "code",
   "execution_count": null,
   "metadata": {},
   "outputs": [],
   "source": []
  }
 ],
 "metadata": {
  "kernelspec": {
   "display_name": "Python 3",
   "language": "python",
   "name": "python3"
  },
  "language_info": {
   "codemirror_mode": {
    "name": "ipython",
    "version": 3
   },
   "file_extension": ".py",
   "mimetype": "text/x-python",
   "name": "python",
   "nbconvert_exporter": "python",
   "pygments_lexer": "ipython3",
   "version": "3.8.3"
  }
 },
 "nbformat": 4,
 "nbformat_minor": 4
}
