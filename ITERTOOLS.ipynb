{
 "cells": [
  {
   "cell_type": "code",
   "execution_count": null,
   "metadata": {},
   "outputs": [],
   "source": [
    "#ITERTOOLS.PRODUCT()\n",
    "from itertools import product\n",
    "\n",
    "a = map(int, input().split())\n",
    "b = map(int, input().split())\n",
    "\n",
    "print(*product(a, b))"
   ]
  },
  {
   "cell_type": "code",
   "execution_count": null,
   "metadata": {},
   "outputs": [],
   "source": [
    "#ITERTOOLS.PERMUTATION()\n",
    "from itertools import permutations\n",
    "import sys\n",
    "for e in sys.stdin:\n",
    "    inp = e.split(' ')\n",
    "for i in list(permutations(sorted(inp[0]), int(inp[1]))):\n",
    "    print(''.join(i))"
   ]
  },
  {
   "cell_type": "code",
   "execution_count": null,
   "metadata": {},
   "outputs": [],
   "source": [
    "#ITERTOOLS.COMBINATIONS()\n",
    "from itertools import combinations\n",
    "import sys\n",
    "for e in sys.stdin:\n",
    "    inp = e.split(' ')\n",
    "for k in range(int(inp[1])+1):\n",
    "    for i in list(combinations(sorted(inp[0]), k)):\n",
    "        if len(i)>0:\n",
    "            print(''.join(i))"
   ]
  },
  {
   "cell_type": "code",
   "execution_count": null,
   "metadata": {},
   "outputs": [],
   "source": [
    "#ITERTOOLS.COMBINATIONS_WITH_REPLACEMENT()\n",
    "from itertools import combinations_with_replacement\n",
    "import sys\n",
    "for e in sys.stdin:\n",
    "    inp = e.split(' ')\n",
    "for i in list(combinations_with_replacement(sorted(inp[0]), int(inp[1]))):\n",
    "    print(''.join(i))"
   ]
  },
  {
   "cell_type": "code",
   "execution_count": null,
   "metadata": {},
   "outputs": [],
   "source": [
    "#COMPRESS THE STRING()\n",
    "from itertools import groupby\n",
    "import sys\n",
    "line = sys.stdin.read()\n",
    "l = []\n",
    "for k, g in groupby(line):\n",
    "    l.append(tuple([len(list(g)), int(k)]))\n",
    "print(*l)"
   ]
  },
  {
   "cell_type": "code",
   "execution_count": null,
   "metadata": {},
   "outputs": [],
   "source": [
    "#ITERABLES AND ITERATORS\n",
    "from itertools import combinations\n",
    "\n",
    "N = int(input())\n",
    "line = input().split()\n",
    "K = int(input())\n",
    "c_l = list(combinations(line ,K))\n",
    "a_c = 0\n",
    "for c in c_l:\n",
    "    if 'a' in c:\n",
    "        a_c += 1\n",
    "print(round(a_c/len(c_l), 3))"
   ]
  },
  {
   "cell_type": "code",
   "execution_count": null,
   "metadata": {},
   "outputs": [],
   "source": [
    "#MAXIMIZE IT!\n",
    "from itertools import product\n",
    "\n",
    "K,M = map(int,input().split())\n",
    "N = (list(map(int, input().split()))[1:] for _ in range(K))\n",
    "results = map(lambda x: sum(i**2 for i in x)%M, product(*N))\n",
    "print(max(results))"
   ]
  }
 ],
 "metadata": {
  "kernelspec": {
   "display_name": "Python 3",
   "language": "python",
   "name": "python3"
  },
  "language_info": {
   "codemirror_mode": {
    "name": "ipython",
    "version": 3
   },
   "file_extension": ".py",
   "mimetype": "text/x-python",
   "name": "python",
   "nbconvert_exporter": "python",
   "pygments_lexer": "ipython3",
   "version": "3.8.3"
  }
 },
 "nbformat": 4,
 "nbformat_minor": 4
}
