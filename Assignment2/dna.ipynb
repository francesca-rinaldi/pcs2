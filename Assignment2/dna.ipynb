{
 "cells": [
  {
   "cell_type": "markdown",
   "metadata": {},
   "source": [
    "## Bioinformatics\n",
    "## Principles of Computer Science II\n",
    "### Alessandro Giulivo\n",
    "### Student Number: 1906520\n",
    "#### Fourth Assignment: Rosalind Problems\n",
    "#### \"Transcribing DNA into RNA\""
   ]
  },
  {
   "cell_type": "code",
   "execution_count": 48,
   "metadata": {},
   "outputs": [],
   "source": [
    "def transcribe(s):\n",
    "    return s.replace('T', 'U')"
   ]
  },
  {
   "cell_type": "code",
   "execution_count": 51,
   "metadata": {},
   "outputs": [
    {
     "name": "stdout",
     "output_type": "stream",
     "text": [
      "AGGGCGAGUCAACGACAACUGUGACGGUGUGCGGCGUCCCAUGUCAUCUUACUGCGUCCUUGUCUUUUCCACAGAAACAGCUACUCCUUACGCGCGCUUGUCGUAACCGUUCUUGACUGUACUGGGAUUCCAUCAAGCGACGACUGACCCAAGAUCUACGGCCAUAAGUUAAUUUUGACGCAUGGACCAGCUGCGAUUCCUGACCAGCAGUACGAGGAAAGUGCAGGACUAUCCCAAACACAUACCCGCCCCCCCACAGGUGCGGUCUCAUUCUGGUUAGAAGAAUGUUGUAGACAAAUAUAGAGCAAAUUAGGAAUAGGAUAUGGUACGGAAUAUGGUGGGAAUGACCAGUGACCCUUCCUAUGACUCCGUCGCAUGCAAGAACGGGCACCUUUGUUCCCGGCCGUAUUCAACUAACGAACUGUGCCAGCGUCUCCCAUAGGGGCUGAAUAGCUCCGAUUGUCGGGCACACGGUCGAUUAUUGUCUGGUCCCUGUACCUUGACAGUGUUCAGAUCUCACCGGGCUUAUACUCCGCUCAUUUUUUGCCAUAGCUUCGGACUGGAAGCGCCCUUCGUGGACAUCGCCACUCCCCUCUUACCUGCUUAGUCCACAAGAGUACUCCUGUAUAAUCGUUGAUACGCGGUUAUCCUUCAUCGGUGGCGGGCACUCAUCACUCGCCUCAGCUACCGGCCGGCUUGUCGCUUGUGAAAUAACCGUCAAGCUUGUGGAGGGCGCCCUACAUAAUAGUAGCGAACUCAGCUCACAGAGCUCACUGCAAUUCUAAACUCUCCCGUUGGGUCUAAUAACGUUAGUCACGGUACAAGACAUGAAGGGAAGGCACACGAACGCAUUCUCGUAGAUGUUCUUGGAAACGGUUAUGCAGUCGCCUCAUGUCGCUGAGAUAGUUCCAUAUCAUUCAGAGGCCAUCGAAUUCGUUUGACAGUCAUGUUUCCCGACACUUCUGAUGUAUGAACCGUGAGAACCUUGAAA\n",
      "\n"
     ]
    }
   ],
   "source": [
    "with open('rosalind_rna.txt', 'r') as f:\n",
    "    s = f.read()\n",
    "    print(transcribe(s))"
   ]
  }
 ],
 "metadata": {
  "kernelspec": {
   "display_name": "Python 3",
   "language": "python",
   "name": "python3"
  },
  "language_info": {
   "codemirror_mode": {
    "name": "ipython",
    "version": 3
   },
   "file_extension": ".py",
   "mimetype": "text/x-python",
   "name": "python",
   "nbconvert_exporter": "python",
   "pygments_lexer": "ipython3",
   "version": "3.8.3"
  }
 },
 "nbformat": 4,
 "nbformat_minor": 4
}
